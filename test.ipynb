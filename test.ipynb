{
 "cells": [
  {
   "cell_type": "code",
   "execution_count": null,
   "metadata": {},
   "outputs": [
    {
     "name": "stdout",
     "output_type": "stream",
     "text": [
      "16진수 0x8 입니다.\n",
      "10진수 8 입니다.\n",
      "8진수 0o10 입니다.\n",
      "2진수 0b1000 입니다.\n"
     ]
    }
   ],
   "source": [
    "jinsu = int(input(\"입력 진수 결정(16/10/8/2)>\"))\n",
    "num = input(\"값 입력>\")  # 값을 문자열로 받습니다.\n",
    "\n",
    "if jinsu == 16:\n",
    "    numb = int(num, 16)\n",
    "elif jinsu == 10:\n",
    "    numb = int(num, 10)\n",
    "elif jinsu == 8:\n",
    "    numb = int(num, 8)\n",
    "elif jinsu == 2:\n",
    "    numb = int(num, 2)\n",
    "else:\n",
    "    print(\"지원하지 않는 진수입니다.\")\n",
    "    exit()\n",
    "\n",
    "print(\"16진수 \" + hex(numb) + \" 입니다.\")\n",
    "print(\"10진수 \" + str(numb) + \" 입니다.\")\n",
    "print(\"8진수 \" + oct(numb) + \" 입니다.\")\n",
    "print(\"2진수 \" + bin(numb) + \" 입니다.\")"
   ]
  }
 ],
 "metadata": {
  "kernelspec": {
   "display_name": "Python 3",
   "language": "python",
   "name": "python3"
  },
  "language_info": {
   "codemirror_mode": {
    "name": "ipython",
    "version": 3
   },
   "file_extension": ".py",
   "mimetype": "text/x-python",
   "name": "python",
   "nbconvert_exporter": "python",
   "pygments_lexer": "ipython3",
   "version": "3.11.3"
  }
 },
 "nbformat": 4,
 "nbformat_minor": 2
}
